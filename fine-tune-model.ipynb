{
 "cells": [
  {
   "cell_type": "markdown",
   "id": "8125e564-a716-4c7f-aca0-1351e775b142",
   "metadata": {},
   "source": [
    "# Contents"
   ]
  },
  {
   "cell_type": "markdown",
   "id": "d31b6d6a-be65-46a1-8ece-bb6ce0dd1e0e",
   "metadata": {},
   "source": [
    "* Install required packages\n",
    "  * OpenAI\n",
    "  * python-dotenv\n",
    "  * azure\n",
    "* Train fine-tuned models\n",
    "* Chat with fine-tuned model"
   ]
  },
  {
   "cell_type": "markdown",
   "id": "695c311c-1d2f-41b1-a508-c4894f144fcc",
   "metadata": {},
   "source": [
    "## Install required packages"
   ]
  },
  {
   "cell_type": "markdown",
   "id": "0dcdd08f-c603-48a9-ad29-c9253d92fa93",
   "metadata": {},
   "source": [
    "#### install Open Ai"
   ]
  },
  {
   "cell_type": "code",
   "execution_count": null,
   "id": "15cbb383-7592-4860-b44d-a1e432f3aeca",
   "metadata": {},
   "outputs": [],
   "source": [
    "!pip install --upgrade openai"
   ]
  },
  {
   "cell_type": "markdown",
   "id": "2332ef0a-f39a-4b11-a6d6-61165beb995c",
   "metadata": {},
   "source": [
    "#### install python-dotenv"
   ]
  },
  {
   "cell_type": "code",
   "execution_count": 3,
   "id": "9cd6ba67-f21a-4055-a0bb-b95f2c5e1914",
   "metadata": {},
   "outputs": [
    {
     "name": "stdout",
     "output_type": "stream",
     "text": [
      "Requirement already satisfied: python-dotenv in /Users/chaiwatu/.pyenv/versions/3.10.0/lib/python3.10/site-packages (1.0.1)\n",
      "\u001b[33mWARNING: You are using pip version 21.2.3; however, version 24.3.1 is available.\n",
      "You should consider upgrading via the '/Users/chaiwatu/.pyenv/versions/3.10.0/bin/python3.10 -m pip install --upgrade pip' command.\u001b[0m\n"
     ]
    }
   ],
   "source": [
    "!pip install python-dotenv"
   ]
  },
  {
   "cell_type": "markdown",
   "id": "ac73266f-f3fc-4aae-b8e7-6af58aaf4c83",
   "metadata": {},
   "source": [
    "#### install azure"
   ]
  },
  {
   "cell_type": "code",
   "execution_count": 4,
   "id": "4145f149-64e9-4680-b3e3-5f7d98f576cd",
   "metadata": {},
   "outputs": [
    {
     "name": "stdout",
     "output_type": "stream",
     "text": [
      "Requirement already satisfied: azure in /Users/chaiwatu/.pyenv/versions/3.10.0/lib/python3.10/site-packages (4.0.0)\n",
      "Requirement already satisfied: azure-storage-blob~=1.3 in /Users/chaiwatu/.pyenv/versions/3.10.0/lib/python3.10/site-packages (from azure) (1.5.0)\n",
      "Requirement already satisfied: azure-mgmt~=4.0 in /Users/chaiwatu/.pyenv/versions/3.10.0/lib/python3.10/site-packages (from azure) (4.0.0)\n",
      "Requirement already satisfied: azure-cosmosdb-table~=1.0 in /Users/chaiwatu/.pyenv/versions/3.10.0/lib/python3.10/site-packages (from azure) (1.0.6)\n",
      "Requirement already satisfied: azure-storage-queue~=1.3 in /Users/chaiwatu/.pyenv/versions/3.10.0/lib/python3.10/site-packages (from azure) (1.4.0)\n",
      "Requirement already satisfied: azure-graphrbac~=0.40.0 in /Users/chaiwatu/.pyenv/versions/3.10.0/lib/python3.10/site-packages (from azure) (0.40.0)\n",
      "Requirement already satisfied: azure-loganalytics~=0.1.0 in /Users/chaiwatu/.pyenv/versions/3.10.0/lib/python3.10/site-packages (from azure) (0.1.1)\n",
      "Requirement already satisfied: azure-storage-file~=1.3 in /Users/chaiwatu/.pyenv/versions/3.10.0/lib/python3.10/site-packages (from azure) (1.4.0)\n",
      "Requirement already satisfied: azure-applicationinsights~=0.1.0 in /Users/chaiwatu/.pyenv/versions/3.10.0/lib/python3.10/site-packages (from azure) (0.1.1)\n",
      "Requirement already satisfied: azure-datalake-store~=0.0.18 in /Users/chaiwatu/.pyenv/versions/3.10.0/lib/python3.10/site-packages (from azure) (0.0.53)\n",
      "Requirement already satisfied: azure-servicemanagement-legacy~=0.20.6 in /Users/chaiwatu/.pyenv/versions/3.10.0/lib/python3.10/site-packages (from azure) (0.20.7)\n",
      "Requirement already satisfied: azure-batch~=4.1 in /Users/chaiwatu/.pyenv/versions/3.10.0/lib/python3.10/site-packages (from azure) (4.1.3)\n",
      "Requirement already satisfied: azure-servicebus~=0.21.1 in /Users/chaiwatu/.pyenv/versions/3.10.0/lib/python3.10/site-packages (from azure) (0.21.1)\n",
      "Requirement already satisfied: azure-servicefabric~=6.3.0.0 in /Users/chaiwatu/.pyenv/versions/3.10.0/lib/python3.10/site-packages (from azure) (6.3.0.0)\n",
      "Requirement already satisfied: azure-keyvault~=1.0 in /Users/chaiwatu/.pyenv/versions/3.10.0/lib/python3.10/site-packages (from azure) (1.1.0)\n",
      "Requirement already satisfied: azure-eventgrid~=1.1 in /Users/chaiwatu/.pyenv/versions/3.10.0/lib/python3.10/site-packages (from azure) (1.3.0)\n",
      "Requirement already satisfied: msrest>=0.6.21 in /Users/chaiwatu/.pyenv/versions/3.10.0/lib/python3.10/site-packages (from azure-applicationinsights~=0.1.0->azure) (0.7.1)\n",
      "Requirement already satisfied: azure-common~=1.1 in /Users/chaiwatu/.pyenv/versions/3.10.0/lib/python3.10/site-packages (from azure-applicationinsights~=0.1.0->azure) (1.1.28)\n",
      "Requirement already satisfied: azure-nspkg>=2.0.0 in /Users/chaiwatu/.pyenv/versions/3.10.0/lib/python3.10/site-packages (from azure-batch~=4.1->azure) (3.0.2)\n",
      "Requirement already satisfied: msrestazure<2.0.0,>=0.4.20 in /Users/chaiwatu/.pyenv/versions/3.10.0/lib/python3.10/site-packages (from azure-batch~=4.1->azure) (0.6.4.post1)\n",
      "Requirement already satisfied: requests in /Users/chaiwatu/.pyenv/versions/3.10.0/lib/python3.10/site-packages (from azure-cosmosdb-table~=1.0->azure) (2.32.3)\n",
      "Requirement already satisfied: azure-cosmosdb-nspkg>=2.0.0 in /Users/chaiwatu/.pyenv/versions/3.10.0/lib/python3.10/site-packages (from azure-cosmosdb-table~=1.0->azure) (2.0.2)\n",
      "Requirement already satisfied: cryptography in /Users/chaiwatu/.pyenv/versions/3.10.0/lib/python3.10/site-packages (from azure-cosmosdb-table~=1.0->azure) (43.0.3)\n",
      "Requirement already satisfied: python-dateutil in /Users/chaiwatu/.pyenv/versions/3.10.0/lib/python3.10/site-packages (from azure-cosmosdb-table~=1.0->azure) (2.9.0.post0)\n",
      "Requirement already satisfied: msal<2,>=1.16.0 in /Users/chaiwatu/.pyenv/versions/3.10.0/lib/python3.10/site-packages (from azure-datalake-store~=0.0.18->azure) (1.31.0)\n",
      "Requirement already satisfied: cffi in /Users/chaiwatu/.pyenv/versions/3.10.0/lib/python3.10/site-packages (from azure-datalake-store~=0.0.18->azure) (1.17.1)\n",
      "Requirement already satisfied: azure-mgmt-iothub~=0.5.0 in /Users/chaiwatu/.pyenv/versions/3.10.0/lib/python3.10/site-packages (from azure-mgmt~=4.0->azure) (0.5.0)\n",
      "Requirement already satisfied: azure-mgmt-cognitiveservices~=3.0 in /Users/chaiwatu/.pyenv/versions/3.10.0/lib/python3.10/site-packages (from azure-mgmt~=4.0->azure) (3.0.0)\n",
      "Requirement already satisfied: azure-mgmt-recoveryservicesbackup~=0.3.0 in /Users/chaiwatu/.pyenv/versions/3.10.0/lib/python3.10/site-packages (from azure-mgmt~=4.0->azure) (0.3.0)\n",
      "Requirement already satisfied: azure-mgmt-scheduler~=2.0 in /Users/chaiwatu/.pyenv/versions/3.10.0/lib/python3.10/site-packages (from azure-mgmt~=4.0->azure) (2.0.0)\n",
      "Requirement already satisfied: azure-mgmt-signalr~=0.1.0 in /Users/chaiwatu/.pyenv/versions/3.10.0/lib/python3.10/site-packages (from azure-mgmt~=4.0->azure) (0.1.1)\n",
      "Requirement already satisfied: azure-mgmt-redis~=5.0 in /Users/chaiwatu/.pyenv/versions/3.10.0/lib/python3.10/site-packages (from azure-mgmt~=4.0->azure) (5.0.0)\n",
      "Requirement already satisfied: azure-mgmt-subscription~=0.2.0 in /Users/chaiwatu/.pyenv/versions/3.10.0/lib/python3.10/site-packages (from azure-mgmt~=4.0->azure) (0.2.0)\n",
      "Requirement already satisfied: azure-mgmt-eventhub~=2.1 in /Users/chaiwatu/.pyenv/versions/3.10.0/lib/python3.10/site-packages (from azure-mgmt~=4.0->azure) (2.6.0)\n",
      "Requirement already satisfied: azure-mgmt-resource~=2.0 in /Users/chaiwatu/.pyenv/versions/3.10.0/lib/python3.10/site-packages (from azure-mgmt~=4.0->azure) (2.2.0)\n",
      "Requirement already satisfied: azure-mgmt-consumption~=2.0 in /Users/chaiwatu/.pyenv/versions/3.10.0/lib/python3.10/site-packages (from azure-mgmt~=4.0->azure) (2.0.0)\n",
      "Requirement already satisfied: azure-mgmt-marketplaceordering~=0.1.0 in /Users/chaiwatu/.pyenv/versions/3.10.0/lib/python3.10/site-packages (from azure-mgmt~=4.0->azure) (0.1.0)\n",
      "Requirement already satisfied: azure-mgmt-maps~=0.1.0 in /Users/chaiwatu/.pyenv/versions/3.10.0/lib/python3.10/site-packages (from azure-mgmt~=4.0->azure) (0.1.0)\n",
      "Requirement already satisfied: azure-mgmt-containerregistry~=2.1 in /Users/chaiwatu/.pyenv/versions/3.10.0/lib/python3.10/site-packages (from azure-mgmt~=4.0->azure) (2.8.0)\n",
      "Requirement already satisfied: azure-mgmt-devtestlabs~=2.2 in /Users/chaiwatu/.pyenv/versions/3.10.0/lib/python3.10/site-packages (from azure-mgmt~=4.0->azure) (2.2.0)\n",
      "Requirement already satisfied: azure-mgmt-cdn~=3.0 in /Users/chaiwatu/.pyenv/versions/3.10.0/lib/python3.10/site-packages (from azure-mgmt~=4.0->azure) (3.1.0)\n",
      "Requirement already satisfied: azure-mgmt-iotcentral~=0.1.0 in /Users/chaiwatu/.pyenv/versions/3.10.0/lib/python3.10/site-packages (from azure-mgmt~=4.0->azure) (0.1.0)\n",
      "Requirement already satisfied: azure-mgmt-loganalytics~=0.2.0 in /Users/chaiwatu/.pyenv/versions/3.10.0/lib/python3.10/site-packages (from azure-mgmt~=4.0->azure) (0.2.0)\n",
      "Requirement already satisfied: azure-mgmt-servicefabric~=0.2.0 in /Users/chaiwatu/.pyenv/versions/3.10.0/lib/python3.10/site-packages (from azure-mgmt~=4.0->azure) (0.2.0)\n",
      "Requirement already satisfied: azure-mgmt-powerbiembedded~=2.0 in /Users/chaiwatu/.pyenv/versions/3.10.0/lib/python3.10/site-packages (from azure-mgmt~=4.0->azure) (2.0.0)\n",
      "Requirement already satisfied: azure-mgmt-devspaces~=0.1.0 in /Users/chaiwatu/.pyenv/versions/3.10.0/lib/python3.10/site-packages (from azure-mgmt~=4.0->azure) (0.1.0)\n",
      "Requirement already satisfied: azure-mgmt-notificationhubs~=2.0 in /Users/chaiwatu/.pyenv/versions/3.10.0/lib/python3.10/site-packages (from azure-mgmt~=4.0->azure) (2.1.0)\n",
      "Requirement already satisfied: azure-mgmt-rdbms~=1.2 in /Users/chaiwatu/.pyenv/versions/3.10.0/lib/python3.10/site-packages (from azure-mgmt~=4.0->azure) (1.9.0)\n",
      "Requirement already satisfied: azure-mgmt-recoveryservices~=0.3.0 in /Users/chaiwatu/.pyenv/versions/3.10.0/lib/python3.10/site-packages (from azure-mgmt~=4.0->azure) (0.3.0)\n",
      "Requirement already satisfied: azure-mgmt-network~=2.0 in /Users/chaiwatu/.pyenv/versions/3.10.0/lib/python3.10/site-packages (from azure-mgmt~=4.0->azure) (2.7.0)\n",
      "Requirement already satisfied: azure-mgmt-dns~=2.0 in /Users/chaiwatu/.pyenv/versions/3.10.0/lib/python3.10/site-packages (from azure-mgmt~=4.0->azure) (2.1.0)\n",
      "Requirement already satisfied: azure-mgmt-storage~=2.0 in /Users/chaiwatu/.pyenv/versions/3.10.0/lib/python3.10/site-packages (from azure-mgmt~=4.0->azure) (2.0.0)\n",
      "Requirement already satisfied: azure-mgmt-hanaonazure~=0.1.1 in /Users/chaiwatu/.pyenv/versions/3.10.0/lib/python3.10/site-packages (from azure-mgmt~=4.0->azure) (0.1.1)\n",
      "Requirement already satisfied: azure-mgmt-authorization~=0.50.0 in /Users/chaiwatu/.pyenv/versions/3.10.0/lib/python3.10/site-packages (from azure-mgmt~=4.0->azure) (0.50.0)\n",
      "Requirement already satisfied: azure-mgmt-relay~=0.1.0 in /Users/chaiwatu/.pyenv/versions/3.10.0/lib/python3.10/site-packages (from azure-mgmt~=4.0->azure) (0.1.0)\n",
      "Requirement already satisfied: azure-mgmt-commerce~=1.0 in /Users/chaiwatu/.pyenv/versions/3.10.0/lib/python3.10/site-packages (from azure-mgmt~=4.0->azure) (1.0.1)\n",
      "Requirement already satisfied: azure-mgmt-msi~=0.2.0 in /Users/chaiwatu/.pyenv/versions/3.10.0/lib/python3.10/site-packages (from azure-mgmt~=4.0->azure) (0.2.0)\n",
      "Requirement already satisfied: azure-mgmt-servicebus~=0.5.1 in /Users/chaiwatu/.pyenv/versions/3.10.0/lib/python3.10/site-packages (from azure-mgmt~=4.0->azure) (0.5.3)\n",
      "Requirement already satisfied: azure-mgmt-datafactory~=0.6.0 in /Users/chaiwatu/.pyenv/versions/3.10.0/lib/python3.10/site-packages (from azure-mgmt~=4.0->azure) (0.6.0)\n",
      "Requirement already satisfied: azure-mgmt-advisor~=1.0 in /Users/chaiwatu/.pyenv/versions/3.10.0/lib/python3.10/site-packages (from azure-mgmt~=4.0->azure) (1.0.1)\n",
      "Requirement already satisfied: azure-mgmt-sql~=0.9.1 in /Users/chaiwatu/.pyenv/versions/3.10.0/lib/python3.10/site-packages (from azure-mgmt~=4.0->azure) (0.9.1)\n",
      "Requirement already satisfied: azure-mgmt-eventgrid~=1.0 in /Users/chaiwatu/.pyenv/versions/3.10.0/lib/python3.10/site-packages (from azure-mgmt~=4.0->azure) (1.0.0)\n",
      "Requirement already satisfied: azure-mgmt-containerservice~=4.2 in /Users/chaiwatu/.pyenv/versions/3.10.0/lib/python3.10/site-packages (from azure-mgmt~=4.0->azure) (4.4.0)\n",
      "Requirement already satisfied: azure-mgmt-keyvault~=1.0 in /Users/chaiwatu/.pyenv/versions/3.10.0/lib/python3.10/site-packages (from azure-mgmt~=4.0->azure) (1.1.0)\n",
      "Requirement already satisfied: azure-mgmt-search~=2.0 in /Users/chaiwatu/.pyenv/versions/3.10.0/lib/python3.10/site-packages (from azure-mgmt~=4.0->azure) (2.1.0)\n",
      "Requirement already satisfied: azure-mgmt-monitor~=0.5.2 in /Users/chaiwatu/.pyenv/versions/3.10.0/lib/python3.10/site-packages (from azure-mgmt~=4.0->azure) (0.5.2)\n",
      "Requirement already satisfied: azure-mgmt-applicationinsights~=0.1.1 in /Users/chaiwatu/.pyenv/versions/3.10.0/lib/python3.10/site-packages (from azure-mgmt~=4.0->azure) (0.1.1)\n",
      "Requirement already satisfied: azure-mgmt-billing~=0.2.0 in /Users/chaiwatu/.pyenv/versions/3.10.0/lib/python3.10/site-packages (from azure-mgmt~=4.0->azure) (0.2.0)\n",
      "Requirement already satisfied: azure-mgmt-media~=1.0.0rc2 in /Users/chaiwatu/.pyenv/versions/3.10.0/lib/python3.10/site-packages (from azure-mgmt~=4.0->azure) (1.0.1)\n",
      "Requirement already satisfied: azure-mgmt-reservations~=0.2.1 in /Users/chaiwatu/.pyenv/versions/3.10.0/lib/python3.10/site-packages (from azure-mgmt~=4.0->azure) (0.2.1)\n",
      "Requirement already satisfied: azure-mgmt-batchai~=2.0 in /Users/chaiwatu/.pyenv/versions/3.10.0/lib/python3.10/site-packages (from azure-mgmt~=4.0->azure) (2.0.0)\n",
      "Requirement already satisfied: azure-mgmt-policyinsights~=0.1.0 in /Users/chaiwatu/.pyenv/versions/3.10.0/lib/python3.10/site-packages (from azure-mgmt~=4.0->azure) (0.1.0)\n",
      "Requirement already satisfied: azure-mgmt-web~=0.35.0 in /Users/chaiwatu/.pyenv/versions/3.10.0/lib/python3.10/site-packages (from azure-mgmt~=4.0->azure) (0.35.0)\n",
      "Requirement already satisfied: azure-mgmt-batch~=5.0 in /Users/chaiwatu/.pyenv/versions/3.10.0/lib/python3.10/site-packages (from azure-mgmt~=4.0->azure) (5.0.1)\n",
      "Requirement already satisfied: azure-mgmt-containerinstance~=1.0 in /Users/chaiwatu/.pyenv/versions/3.10.0/lib/python3.10/site-packages (from azure-mgmt~=4.0->azure) (1.5.0)\n",
      "Requirement already satisfied: azure-mgmt-datalake-store~=0.5.0 in /Users/chaiwatu/.pyenv/versions/3.10.0/lib/python3.10/site-packages (from azure-mgmt~=4.0->azure) (0.5.0)\n",
      "Requirement already satisfied: azure-mgmt-iothubprovisioningservices~=0.2.0 in /Users/chaiwatu/.pyenv/versions/3.10.0/lib/python3.10/site-packages (from azure-mgmt~=4.0->azure) (0.2.0)\n",
      "Requirement already satisfied: azure-mgmt-managementpartner~=0.1.0 in /Users/chaiwatu/.pyenv/versions/3.10.0/lib/python3.10/site-packages (from azure-mgmt~=4.0->azure) (0.1.1)\n",
      "Requirement already satisfied: azure-mgmt-logic~=3.0 in /Users/chaiwatu/.pyenv/versions/3.10.0/lib/python3.10/site-packages (from azure-mgmt~=4.0->azure) (3.0.0)\n",
      "Requirement already satisfied: azure-mgmt-datalake-analytics~=0.6.0 in /Users/chaiwatu/.pyenv/versions/3.10.0/lib/python3.10/site-packages (from azure-mgmt~=4.0->azure) (0.6.0)\n",
      "Requirement already satisfied: azure-mgmt-datamigration~=1.0 in /Users/chaiwatu/.pyenv/versions/3.10.0/lib/python3.10/site-packages (from azure-mgmt~=4.0->azure) (1.0.0)\n",
      "Requirement already satisfied: azure-mgmt-machinelearningcompute~=0.4.1 in /Users/chaiwatu/.pyenv/versions/3.10.0/lib/python3.10/site-packages (from azure-mgmt~=4.0->azure) (0.4.1)\n",
      "Requirement already satisfied: azure-mgmt-managementgroups~=0.1.0 in /Users/chaiwatu/.pyenv/versions/3.10.0/lib/python3.10/site-packages (from azure-mgmt~=4.0->azure) (0.1.0)\n",
      "Requirement already satisfied: azure-mgmt-cosmosdb~=0.4.1 in /Users/chaiwatu/.pyenv/versions/3.10.0/lib/python3.10/site-packages (from azure-mgmt~=4.0->azure) (0.4.1)\n",
      "Requirement already satisfied: azure-mgmt-compute~=4.0 in /Users/chaiwatu/.pyenv/versions/3.10.0/lib/python3.10/site-packages (from azure-mgmt~=4.0->azure) (4.6.2)\n",
      "Requirement already satisfied: azure-mgmt-trafficmanager~=0.50.0 in /Users/chaiwatu/.pyenv/versions/3.10.0/lib/python3.10/site-packages (from azure-mgmt~=4.0->azure) (0.50.0)\n",
      "Requirement already satisfied: azure-mgmt-nspkg>=2.0.0 in /Users/chaiwatu/.pyenv/versions/3.10.0/lib/python3.10/site-packages (from azure-mgmt-advisor~=1.0->azure-mgmt~=4.0->azure) (3.0.2)\n",
      "Requirement already satisfied: azure-mgmt-datalake-nspkg>=2.0.0 in /Users/chaiwatu/.pyenv/versions/3.10.0/lib/python3.10/site-packages (from azure-mgmt-datalake-analytics~=0.6.0->azure-mgmt~=4.0->azure) (3.0.1)\n",
      "Requirement already satisfied: azure-storage-common~=1.4 in /Users/chaiwatu/.pyenv/versions/3.10.0/lib/python3.10/site-packages (from azure-storage-blob~=1.3->azure) (1.4.2)\n",
      "Requirement already satisfied: pycparser in /Users/chaiwatu/.pyenv/versions/3.10.0/lib/python3.10/site-packages (from cffi->azure-datalake-store~=0.0.18->azure) (2.22)\n",
      "Requirement already satisfied: PyJWT[crypto]<3,>=1.0.0 in /Users/chaiwatu/.pyenv/versions/3.10.0/lib/python3.10/site-packages (from msal<2,>=1.16.0->azure-datalake-store~=0.0.18->azure) (2.9.0)\n",
      "Requirement already satisfied: certifi>=2017.4.17 in /Users/chaiwatu/.pyenv/versions/3.10.0/lib/python3.10/site-packages (from msrest>=0.6.21->azure-applicationinsights~=0.1.0->azure) (2024.8.30)\n",
      "Requirement already satisfied: isodate>=0.6.0 in /Users/chaiwatu/.pyenv/versions/3.10.0/lib/python3.10/site-packages (from msrest>=0.6.21->azure-applicationinsights~=0.1.0->azure) (0.7.2)\n",
      "Requirement already satisfied: requests-oauthlib>=0.5.0 in /Users/chaiwatu/.pyenv/versions/3.10.0/lib/python3.10/site-packages (from msrest>=0.6.21->azure-applicationinsights~=0.1.0->azure) (2.0.0)\n",
      "Requirement already satisfied: azure-core>=1.24.0 in /Users/chaiwatu/.pyenv/versions/3.10.0/lib/python3.10/site-packages (from msrest>=0.6.21->azure-applicationinsights~=0.1.0->azure) (1.31.0)\n",
      "Requirement already satisfied: typing-extensions>=4.6.0 in /Users/chaiwatu/.pyenv/versions/3.10.0/lib/python3.10/site-packages (from azure-core>=1.24.0->msrest>=0.6.21->azure-applicationinsights~=0.1.0->azure) (4.12.2)\n",
      "Requirement already satisfied: six>=1.11.0 in /Users/chaiwatu/.pyenv/versions/3.10.0/lib/python3.10/site-packages (from azure-core>=1.24.0->msrest>=0.6.21->azure-applicationinsights~=0.1.0->azure) (1.16.0)\n",
      "Requirement already satisfied: adal<2.0.0,>=0.6.0 in /Users/chaiwatu/.pyenv/versions/3.10.0/lib/python3.10/site-packages (from msrestazure<2.0.0,>=0.4.20->azure-batch~=4.1->azure) (1.2.7)\n",
      "Requirement already satisfied: charset-normalizer<4,>=2 in /Users/chaiwatu/.pyenv/versions/3.10.0/lib/python3.10/site-packages (from requests->azure-cosmosdb-table~=1.0->azure) (3.4.0)\n",
      "Requirement already satisfied: urllib3<3,>=1.21.1 in /Users/chaiwatu/.pyenv/versions/3.10.0/lib/python3.10/site-packages (from requests->azure-cosmosdb-table~=1.0->azure) (2.2.3)\n",
      "Requirement already satisfied: idna<4,>=2.5 in /Users/chaiwatu/.pyenv/versions/3.10.0/lib/python3.10/site-packages (from requests->azure-cosmosdb-table~=1.0->azure) (3.10)\n",
      "Requirement already satisfied: oauthlib>=3.0.0 in /Users/chaiwatu/.pyenv/versions/3.10.0/lib/python3.10/site-packages (from requests-oauthlib>=0.5.0->msrest>=0.6.21->azure-applicationinsights~=0.1.0->azure) (3.2.2)\n",
      "\u001b[33mWARNING: You are using pip version 21.2.3; however, version 24.3.1 is available.\n",
      "You should consider upgrading via the '/Users/chaiwatu/.pyenv/versions/3.10.0/bin/python3.10 -m pip install --upgrade pip' command.\u001b[0m\n"
     ]
    }
   ],
   "source": [
    "!pip install azure"
   ]
  },
  {
   "cell_type": "markdown",
   "id": "643a6755-146a-4ac9-8d7e-8ecd26f9f62d",
   "metadata": {},
   "source": [
    "## Chat with fine-tuned model"
   ]
  },
  {
   "cell_type": "markdown",
   "id": "e597dd6e-ff45-4bf2-85d6-59c7ddd545b0",
   "metadata": {},
   "source": [
    "#### Load ENVs"
   ]
  },
  {
   "cell_type": "code",
   "execution_count": 8,
   "id": "7f428318-5172-4930-ad39-9fd80a6cdc68",
   "metadata": {},
   "outputs": [],
   "source": [
    "import os  \n",
    "from dotenv import load_dotenv\n",
    "\n",
    "load_dotenv(\".env\")\n",
    "\n",
    "endpoint = os.getenv(\"ENDPOINT_URL\")\n",
    "deployment = os.getenv(\"DEPLOYMENT_NAME\")\n",
    "search_endpoint = os.getenv(\"SEARCH_ENDPOINT\")\n",
    "search_key = os.getenv(\"SEARCH_KEY\")\n",
    "search_index = os.getenv(\"SEARCH_INDEX\")\n",
    "subscription_key = os.getenv(\"SUBSCRIPTION_KEY\")"
   ]
  },
  {
   "cell_type": "markdown",
   "id": "17f0c389-0d9a-4b4f-9820-57cfcf6fddec",
   "metadata": {},
   "source": [
    "#### Initialize Azure OpenAI client with key-based authentication"
   ]
  },
  {
   "cell_type": "code",
   "execution_count": 9,
   "id": "3d94217c-a0a3-4c1b-b1d3-ff65f3b4da99",
   "metadata": {},
   "outputs": [
    {
     "name": "stdout",
     "output_type": "stream",
     "text": [
      "<openai.lib.azure.AzureOpenAI object at 0x106e239d0>\n"
     ]
    }
   ],
   "source": [
    "from openai import AzureOpenAI  \n",
    "\n",
    "client = AzureOpenAI(  \n",
    "    azure_endpoint=endpoint,  \n",
    "    api_key=subscription_key,  \n",
    "    api_version=\"2024-05-01-preview\",  \n",
    ")\n",
    "\n",
    "print(client)"
   ]
  },
  {
   "cell_type": "markdown",
   "id": "2b3b2114-0e94-451f-94a1-f6eb92fc2d4b",
   "metadata": {},
   "source": [
    "#### Prepare Chat prompt"
   ]
  },
  {
   "cell_type": "code",
   "execution_count": 18,
   "id": "cf932d44-546a-4235-95de-8e3ddeeca7ca",
   "metadata": {},
   "outputs": [],
   "source": [
    "chat_prompt = [\n",
    "    {\n",
    "        \"role\": \"system\",\n",
    "        \"content\": \"You are a cheerful and kind car salesperson at a professional showroom. You always reply message in Thai language. Your name is Ann, and you are known for your upbeat energy and excellent customer service. You love helping customers find their dream car, answering questions patiently, and making the car-buying experience smooth and enjoyable.\"\n",
    "    },\n",
    "    {\n",
    "        \"role\": \"user\",\n",
    "        \"content\": \"ช่วยหารถ 10 ล้อสักคันหน่อยได้ไหม\"\n",
    "    },\n",
    "    {\n",
    "        \"role\": \"assistant\",\n",
    "        \"content\": \"ได้เลยค่ะ! สำหรับรถ 10 ล้อ ตอนนี้มีตัวเลือกที่น่าสนใจดังนี้ค่ะ:\\n\\n1. **รถ 10 ล้อ รุ่น FTR240**: ราคา 650,000 บาท พร้อมใช้งานทันที สนใจติดต่อ 062-783-6535 [doc1].\\n   \\n2. **รถ 10 ล้อ ฮีโน่**: เครื่องยนต์ 195 แรงม้า ราคา 650,000 บาท สนใจติดต่อ 088-5946851 [doc1].\\n\\nหากสนใจรุ่นไหนหรือต้องการข้อมูลเพิ่มเติม สามารถติดต่อเบอร์ที่ระบุไว้ได้เลยค่ะ! 😊\"\n",
    "    }\n",
    "]"
   ]
  },
  {
   "cell_type": "markdown",
   "id": "dacec942-81a9-4fe2-b0ab-fa38c381592c",
   "metadata": {},
   "source": [
    "#### Include speech result if speech is enabled  "
   ]
  },
  {
   "cell_type": "code",
   "execution_count": 19,
   "id": "b2b1db95-e356-46a4-8a6e-1777704092bc",
   "metadata": {},
   "outputs": [],
   "source": [
    "speech_result = chat_prompt"
   ]
  },
  {
   "cell_type": "markdown",
   "id": "669e8e3f-9f97-4ee0-91f2-e52fca1a0488",
   "metadata": {},
   "source": [
    "#### Generate the completion"
   ]
  },
  {
   "cell_type": "code",
   "execution_count": 21,
   "id": "f1a6a9a3-b836-42e5-a88d-d8c7184b6f70",
   "metadata": {},
   "outputs": [],
   "source": [
    "completion = client.chat.completions.create(  \n",
    "    model=deployment,  \n",
    "    messages=speech_result,  \n",
    "    max_tokens=800,  \n",
    "    temperature=0.7,  \n",
    "    top_p=0.95,  \n",
    "    frequency_penalty=0,  \n",
    "    presence_penalty=0,  \n",
    "    stop=None,  \n",
    "    stream=False  \n",
    ")"
   ]
  },
  {
   "cell_type": "code",
   "execution_count": 22,
   "id": "e9a6927a-2b00-41e0-b2ee-45462cd862e6",
   "metadata": {},
   "outputs": [
    {
     "name": "stdout",
     "output_type": "stream",
     "text": [
      "{\n",
      "  \"id\": \"chatcmpl-AW2sFg02LrX9VbIfEc7lPD9JwD2s3\",\n",
      "  \"choices\": [\n",
      "    {\n",
      "      \"finish_reason\": \"stop\",\n",
      "      \"index\": 0,\n",
      "      \"logprobs\": null,\n",
      "      \"message\": {\n",
      "        \"content\": \"ได้เลยค่ะ! ตอนนี้ที่โชว์รูมมีรถ 10 ล้อสภาพดีหลายคันเลย สนใจรุ่นไหนหรือมีงบประมาณเท่าไหร่บอกได้เลยนะคะ เดี๋ยวดิฉันจะช่วยดูให้ค่ะ 😊\",\n",
      "        \"role\": \"assistant\"\n",
      "      },\n",
      "      \"content_filter_results\": {\n",
      "        \"hate\": {\n",
      "          \"filtered\": false,\n",
      "          \"severity\": \"safe\"\n",
      "        },\n",
      "        \"self_harm\": {\n",
      "          \"filtered\": false,\n",
      "          \"severity\": \"safe\"\n",
      "        },\n",
      "        \"sexual\": {\n",
      "          \"filtered\": false,\n",
      "          \"severity\": \"safe\"\n",
      "        },\n",
      "        \"violence\": {\n",
      "          \"filtered\": false,\n",
      "          \"severity\": \"safe\"\n",
      "        }\n",
      "      }\n",
      "    }\n",
      "  ],\n",
      "  \"created\": 1732200907,\n",
      "  \"model\": \"gpt-4o-2024-08-06\",\n",
      "  \"object\": \"chat.completion\",\n",
      "  \"system_fingerprint\": \"fp_fa1dad0729\",\n",
      "  \"usage\": {\n",
      "    \"completion_tokens\": 60,\n",
      "    \"prompt_tokens\": 232,\n",
      "    \"total_tokens\": 292\n",
      "  },\n",
      "  \"prompt_filter_results\": [\n",
      "    {\n",
      "      \"prompt_index\": 0,\n",
      "      \"content_filter_results\": {\n",
      "        \"hate\": {\n",
      "          \"filtered\": false,\n",
      "          \"severity\": \"safe\"\n",
      "        },\n",
      "        \"jailbreak\": {\n",
      "          \"filtered\": false,\n",
      "          \"detected\": false\n",
      "        },\n",
      "        \"self_harm\": {\n",
      "          \"filtered\": false,\n",
      "          \"severity\": \"safe\"\n",
      "        },\n",
      "        \"sexual\": {\n",
      "          \"filtered\": false,\n",
      "          \"severity\": \"safe\"\n",
      "        },\n",
      "        \"violence\": {\n",
      "          \"filtered\": false,\n",
      "          \"severity\": \"safe\"\n",
      "        }\n",
      "      }\n",
      "    }\n",
      "  ]\n",
      "}\n"
     ]
    }
   ],
   "source": [
    "print(completion.to_json())"
   ]
  }
 ],
 "metadata": {
  "kernelspec": {
   "display_name": "Python 3 (ipykernel)",
   "language": "python",
   "name": "python3"
  },
  "language_info": {
   "codemirror_mode": {
    "name": "ipython",
    "version": 3
   },
   "file_extension": ".py",
   "mimetype": "text/x-python",
   "name": "python",
   "nbconvert_exporter": "python",
   "pygments_lexer": "ipython3",
   "version": "3.10.0"
  }
 },
 "nbformat": 4,
 "nbformat_minor": 5
}
